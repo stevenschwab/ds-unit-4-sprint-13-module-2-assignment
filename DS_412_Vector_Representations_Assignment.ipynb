{
  "nbformat": 4,
  "nbformat_minor": 0,
  "metadata": {
    "celltoolbar": "Create Assignment",
    "colab": {
      "name": "DS_412_Vector_Representations_Assignment.ipynb",
      "provenance": []
    },
    "kernel_info": {
      "name": "python3"
    },
    "kernelspec": {
      "display_name": "py37  (Python3)",
      "language": "python",
      "name": "py37"
    },
    "language_info": {
      "codemirror_mode": {
        "name": "ipython",
        "version": 3
      },
      "file_extension": ".py",
      "mimetype": "text/x-python",
      "name": "python",
      "nbconvert_exporter": "python",
      "pygments_lexer": "ipython3",
      "version": "3.7.0"
    },
    "nteract": {
      "version": "0.14.3"
    }
  },
  "cells": [
    {
      "cell_type": "markdown",
      "metadata": {
        "id": "XY_oGN5FN_LJ"
      },
      "source": [
        "\n",
        "# Vector Representations\n",
        "## *Data Science Unit 4 Sprint 1 Assignment 2*"
      ]
    },
    {
      "cell_type": "markdown",
      "source": [
        "Machines cannot interpret raw text.\n",
        "\n",
        "Bag of Words (BoW) - Frequency-Based word embeddings: \"vectorizing\" tokenized documents. Representing each document as a row in a DataFrame and creating a column for each unique word in the corpora (group of documents). The presence or lack of a given word in a document is then represented either as a raw count of how many times a given word appears in a document (CountVectorizer) or as that word's TF-IDF score (TfidfVectorizer).\n",
        "\n",
        "Word embedding models\n",
        "\n",
        "Processing text data to prepare it for ML models often means translating the information from documents into a numerical format."
      ],
      "metadata": {
        "id": "Q995Avvv5cme"
      }
    },
    {
      "cell_type": "markdown",
      "metadata": {
        "id": "c8TVTlaib3fn"
      },
      "source": [
        "## 0.1 Get `spacy`"
      ]
    },
    {
      "cell_type": "code",
      "source": [
        "%%time\n",
        "# magic command that measures and displays the execution time of the entire cell\n",
        "!python -m spacy download en_core_web_md"
      ],
      "metadata": {
        "id": "Nhlo6z8s7gFT",
        "outputId": "5f4b8edd-7322-4e51-8435-2c4cf08266b4",
        "colab": {
          "base_uri": "https://localhost:8080/"
        }
      },
      "execution_count": 1,
      "outputs": [
        {
          "output_type": "stream",
          "name": "stdout",
          "text": [
            "Collecting en-core-web-md==3.8.0\n",
            "  Downloading https://github.com/explosion/spacy-models/releases/download/en_core_web_md-3.8.0/en_core_web_md-3.8.0-py3-none-any.whl (33.5 MB)\n",
            "\u001b[2K     \u001b[90m━━━━━━━━━━━━━━━━━━━━━━━━━━━━━━━━━━━━━━━━\u001b[0m \u001b[32m33.5/33.5 MB\u001b[0m \u001b[31m36.9 MB/s\u001b[0m eta \u001b[36m0:00:00\u001b[0m\n",
            "\u001b[?25hInstalling collected packages: en-core-web-md\n",
            "Successfully installed en-core-web-md-3.8.0\n",
            "\u001b[38;5;2m✔ Download and installation successful\u001b[0m\n",
            "You can now load the package via spacy.load('en_core_web_md')\n",
            "\u001b[38;5;3m⚠ Restart to reload dependencies\u001b[0m\n",
            "If you are in a Jupyter or Colab notebook, you may need to restart Python in\n",
            "order to load all the package's dependencies. You can do this by selecting the\n",
            "'Restart kernel' or 'Restart runtime' option.\n",
            "CPU times: user 67.5 ms, sys: 4.27 ms, total: 71.8 ms\n",
            "Wall time: 21.1 s\n"
          ]
        }
      ]
    },
    {
      "cell_type": "markdown",
      "metadata": {
        "id": "Ffkb2MnJb-9l"
      },
      "source": [
        "##0.2 Restart Runtime"
      ]
    },
    {
      "cell_type": "markdown",
      "metadata": {
        "id": "Umr3z-gWcgKK"
      },
      "source": [
        "## 0.3 Imports"
      ]
    },
    {
      "cell_type": "code",
      "metadata": {
        "id": "DDmYaIQ38OQ1"
      },
      "source": [
        "import re\n",
        "import string\n",
        "\n",
        "from sklearn.feature_extraction.text import CountVectorizer, TfidfVectorizer\n",
        "from sklearn.neighbors import NearestNeighbors\n",
        "\n",
        "import matplotlib.pyplot as plt\n",
        "import pandas as pd\n",
        "import numpy as np\n",
        "\n",
        "from bs4 import BeautifulSoup\n",
        "\n",
        "%matplotlib inline\n",
        "\n",
        "import spacy\n",
        "nlp = spacy.load(\"en_core_web_md\")"
      ],
      "execution_count": 1,
      "outputs": []
    },
    {
      "cell_type": "markdown",
      "metadata": {
        "id": "55skIZ7eidH7"
      },
      "source": [
        "##0.4 Clone the git repo\n",
        "so we can access the files in the `/data` folder"
      ]
    },
    {
      "cell_type": "code",
      "metadata": {
        "colab": {
          "base_uri": "https://localhost:8080/"
        },
        "id": "kpgi5SBuePAD",
        "outputId": "1df4cf44-d423-48a0-8eb1-1fb38c3472ad"
      },
      "source": [
        "!git clone https://github.com/LambdaSchool/DS-Unit-4-Sprint-1-NLP.git\n"
      ],
      "execution_count": 2,
      "outputs": [
        {
          "output_type": "stream",
          "name": "stdout",
          "text": [
            "fatal: destination path 'DS-Unit-4-Sprint-1-NLP' already exists and is not an empty directory.\n"
          ]
        }
      ]
    },
    {
      "cell_type": "markdown",
      "metadata": {
        "id": "M7bcmqfGXrFG"
      },
      "source": [
        "## 1) Clean the Job Listings from indeed.com that contain the title \"Data Scientist\"\n",
        "\n",
        "The file `job_listings.csv` is in the `data` folder for this module. <br>\n",
        "Navigate to the `data` folder in the `DS-Unit-4-Sprint-1-NLP` folder icon in the left sidebar.\n",
        "Find the path to `job_listings.csv` (all the way at the bottom of the list of files in `data`), by clicking on the \"three dots\" symbol to the right of its file icon."
      ]
    },
    {
      "cell_type": "code",
      "metadata": {
        "id": "KcYlc1URXhlC",
        "scrolled": true
      },
      "source": [
        "data_path = \"/content/DS-Unit-4-Sprint-1-NLP/module2-vector-representations/data/job_listings.csv\"\n",
        "df = pd.read_csv(data_path)"
      ],
      "execution_count": 3,
      "outputs": []
    },
    {
      "cell_type": "code",
      "metadata": {
        "id": "U2weJPQxN_LN",
        "colab": {
          "base_uri": "https://localhost:8080/",
          "height": 206
        },
        "outputId": "0be86342-15a9-4c16-c931-867573f214e9"
      },
      "source": [
        "df.head()"
      ],
      "execution_count": 4,
      "outputs": [
        {
          "output_type": "execute_result",
          "data": {
            "text/plain": [
              "   Unnamed: 0                                        description  \\\n",
              "0           0  b\"<div><div>Job Requirements:</div><ul><li><p>...   \n",
              "1           1  b'<div>Job Description<br/>\\n<br/>\\n<p>As a Da...   \n",
              "2           2  b'<div><p>As a Data Scientist you will be work...   \n",
              "3           3  b'<div class=\"jobsearch-JobMetadataHeader icl-...   \n",
              "4           4  b'<ul><li>Location: USA \\xe2\\x80\\x93 multiple ...   \n",
              "\n",
              "                          title  \n",
              "0               Data scientist   \n",
              "1              Data Scientist I  \n",
              "2  Data Scientist - Entry Level  \n",
              "3                Data Scientist  \n",
              "4                Data Scientist  "
            ],
            "text/html": [
              "\n",
              "  <div id=\"df-30c24a22-e26f-4f49-8090-bdce3693c557\" class=\"colab-df-container\">\n",
              "    <div>\n",
              "<style scoped>\n",
              "    .dataframe tbody tr th:only-of-type {\n",
              "        vertical-align: middle;\n",
              "    }\n",
              "\n",
              "    .dataframe tbody tr th {\n",
              "        vertical-align: top;\n",
              "    }\n",
              "\n",
              "    .dataframe thead th {\n",
              "        text-align: right;\n",
              "    }\n",
              "</style>\n",
              "<table border=\"1\" class=\"dataframe\">\n",
              "  <thead>\n",
              "    <tr style=\"text-align: right;\">\n",
              "      <th></th>\n",
              "      <th>Unnamed: 0</th>\n",
              "      <th>description</th>\n",
              "      <th>title</th>\n",
              "    </tr>\n",
              "  </thead>\n",
              "  <tbody>\n",
              "    <tr>\n",
              "      <th>0</th>\n",
              "      <td>0</td>\n",
              "      <td>b\"&lt;div&gt;&lt;div&gt;Job Requirements:&lt;/div&gt;&lt;ul&gt;&lt;li&gt;&lt;p&gt;...</td>\n",
              "      <td>Data scientist</td>\n",
              "    </tr>\n",
              "    <tr>\n",
              "      <th>1</th>\n",
              "      <td>1</td>\n",
              "      <td>b'&lt;div&gt;Job Description&lt;br/&gt;\\n&lt;br/&gt;\\n&lt;p&gt;As a Da...</td>\n",
              "      <td>Data Scientist I</td>\n",
              "    </tr>\n",
              "    <tr>\n",
              "      <th>2</th>\n",
              "      <td>2</td>\n",
              "      <td>b'&lt;div&gt;&lt;p&gt;As a Data Scientist you will be work...</td>\n",
              "      <td>Data Scientist - Entry Level</td>\n",
              "    </tr>\n",
              "    <tr>\n",
              "      <th>3</th>\n",
              "      <td>3</td>\n",
              "      <td>b'&lt;div class=\"jobsearch-JobMetadataHeader icl-...</td>\n",
              "      <td>Data Scientist</td>\n",
              "    </tr>\n",
              "    <tr>\n",
              "      <th>4</th>\n",
              "      <td>4</td>\n",
              "      <td>b'&lt;ul&gt;&lt;li&gt;Location: USA \\xe2\\x80\\x93 multiple ...</td>\n",
              "      <td>Data Scientist</td>\n",
              "    </tr>\n",
              "  </tbody>\n",
              "</table>\n",
              "</div>\n",
              "    <div class=\"colab-df-buttons\">\n",
              "      \n",
              "  <div class=\"colab-df-container\">\n",
              "    <button class=\"colab-df-convert\" onclick=\"convertToInteractive('df-30c24a22-e26f-4f49-8090-bdce3693c557')\"\n",
              "            title=\"Convert this dataframe to an interactive table.\"\n",
              "            style=\"display:none;\">\n",
              "      \n",
              "  <svg xmlns=\"http://www.w3.org/2000/svg\" height=\"24px\" viewBox=\"0 -960 960 960\">\n",
              "    <path d=\"M120-120v-720h720v720H120Zm60-500h600v-160H180v160Zm220 220h160v-160H400v160Zm0 220h160v-160H400v160ZM180-400h160v-160H180v160Zm440 0h160v-160H620v160ZM180-180h160v-160H180v160Zm440 0h160v-160H620v160Z\"/>\n",
              "  </svg>\n",
              "    </button>\n",
              "    \n",
              "  <style>\n",
              "    .colab-df-container {\n",
              "      display:flex;\n",
              "      gap: 12px;\n",
              "    }\n",
              "\n",
              "    .colab-df-convert {\n",
              "      background-color: #E8F0FE;\n",
              "      border: none;\n",
              "      border-radius: 50%;\n",
              "      cursor: pointer;\n",
              "      display: none;\n",
              "      fill: #1967D2;\n",
              "      height: 32px;\n",
              "      padding: 0 0 0 0;\n",
              "      width: 32px;\n",
              "    }\n",
              "\n",
              "    .colab-df-convert:hover {\n",
              "      background-color: #E2EBFA;\n",
              "      box-shadow: 0px 1px 2px rgba(60, 64, 67, 0.3), 0px 1px 3px 1px rgba(60, 64, 67, 0.15);\n",
              "      fill: #174EA6;\n",
              "    }\n",
              "\n",
              "    .colab-df-buttons div {\n",
              "      margin-bottom: 4px;\n",
              "    }\n",
              "\n",
              "    [theme=dark] .colab-df-convert {\n",
              "      background-color: #3B4455;\n",
              "      fill: #D2E3FC;\n",
              "    }\n",
              "\n",
              "    [theme=dark] .colab-df-convert:hover {\n",
              "      background-color: #434B5C;\n",
              "      box-shadow: 0px 1px 3px 1px rgba(0, 0, 0, 0.15);\n",
              "      filter: drop-shadow(0px 1px 2px rgba(0, 0, 0, 0.3));\n",
              "      fill: #FFFFFF;\n",
              "    }\n",
              "  </style>\n",
              "\n",
              "    <script>\n",
              "      const buttonEl =\n",
              "        document.querySelector('#df-30c24a22-e26f-4f49-8090-bdce3693c557 button.colab-df-convert');\n",
              "      buttonEl.style.display =\n",
              "        google.colab.kernel.accessAllowed ? 'block' : 'none';\n",
              "\n",
              "      async function convertToInteractive(key) {\n",
              "        const element = document.querySelector('#df-30c24a22-e26f-4f49-8090-bdce3693c557');\n",
              "        const dataTable =\n",
              "          await google.colab.kernel.invokeFunction('convertToInteractive',\n",
              "                                                    [key], {});\n",
              "        if (!dataTable) return;\n",
              "\n",
              "        const docLinkHtml = 'Like what you see? Visit the ' +\n",
              "          '<a target=\"_blank\" href=https://colab.research.google.com/notebooks/data_table.ipynb>data table notebook</a>'\n",
              "          + ' to learn more about interactive tables.';\n",
              "        element.innerHTML = '';\n",
              "        dataTable['output_type'] = 'display_data';\n",
              "        await google.colab.output.renderOutput(dataTable, element);\n",
              "        const docLink = document.createElement('div');\n",
              "        docLink.innerHTML = docLinkHtml;\n",
              "        element.appendChild(docLink);\n",
              "      }\n",
              "    </script>\n",
              "  </div>\n",
              "  \n",
              "    </div>\n",
              "  </div>\n",
              "  "
            ]
          },
          "metadata": {},
          "execution_count": 4
        }
      ]
    },
    {
      "cell_type": "code",
      "source": [
        "df.shape"
      ],
      "metadata": {
        "id": "NLMAss4f2uwe",
        "outputId": "efbe07e3-b28c-4838-a83b-88b9f9c6517c",
        "colab": {
          "base_uri": "https://localhost:8080/"
        }
      },
      "execution_count": 58,
      "outputs": [
        {
          "output_type": "execute_result",
          "data": {
            "text/plain": [
              "(426, 5)"
            ]
          },
          "metadata": {},
          "execution_count": 58
        }
      ]
    },
    {
      "cell_type": "markdown",
      "metadata": {
        "id": "TfNxBcV0dCuZ"
      },
      "source": [
        "### Remove `HTML tags`\n",
        "\n",
        "The text data in the description column is messy - it's full of html tags! <br>\n",
        "Use the [`BeautifulSoup`](https://www.crummy.com/software/BeautifulSoup/bs4/doc/) library to clean up this column by removing html tags. <br>\n",
        "* You will need to read through the `BeautifulSoup` documentation to accomplish this task. <br>\n",
        "* As with any library, there is lots of documentation, but read only what you need!\n",
        "* Don't spend more time than it takes to figure out how to remove html tags!\n"
      ]
    },
    {
      "cell_type": "code",
      "metadata": {
        "nbgrader": {
          "grade": false,
          "grade_id": "cell-ba2e30dfe0bfec8a",
          "locked": false,
          "schema_version": 3,
          "solution": true,
          "task": false
        },
        "id": "MUjsR6kCN_LO"
      },
      "source": [
        "def remove_html(text):\n",
        "    \"\"\"\n",
        "    Extract text from html boiler plate code.\n",
        "    Converts bytes dtype into str dtype\n",
        "\n",
        "    Note\n",
        "    ----\n",
        "    Use the regex editor to help you create regular expressions https://regex101.com/\n",
        "\n",
        "    Parameters\n",
        "    ----------\n",
        "    text: string or object\n",
        "        contains text data that we want to clean\n",
        "\n",
        "    Returns\n",
        "    -------\n",
        "    text: str\n",
        "        cleaned text data ready for vectorization\n",
        "    \"\"\"\n",
        "\n",
        "    # create soup object to parse HTML\n",
        "    soup = BeautifulSoup(text, 'html.parser')\n",
        "\n",
        "    # extract text, joining with spaces and stripping excess whitespace\n",
        "    text = eval(soup.get_text())\n",
        "\n",
        "    # if text is a byte data type, then convert to string\n",
        "    if isinstance(text, str) == False:\n",
        "        # convert byte data type into str\n",
        "        text = text.decode('utf-8')\n",
        "\n",
        "    # use regex to replace multiple whitespace (spaces, tabs, newlines) with a single space\n",
        "    text = re.sub(\"[^a-zA-Z]\", ' ', text)\n",
        "\n",
        "    # case normalize and strip extra white spaces on the far left and right hand side\n",
        "    text = text.lower().strip()\n",
        "\n",
        "    return text"
      ],
      "execution_count": 63,
      "outputs": []
    },
    {
      "cell_type": "code",
      "metadata": {
        "id": "mEIAN-bIN_LQ"
      },
      "source": [
        "df[\"clean_text\"] = df.description.apply(lambda text: remove_html(text))\n",
        "# would this work? df[\"clean_text\"] = df.description.apply(remove_html)"
      ],
      "execution_count": 64,
      "outputs": []
    },
    {
      "cell_type": "code",
      "metadata": {
        "id": "KD0Ea5HBN_LR",
        "outputId": "b7eea9f1-d966-431c-a366-509c26036778",
        "colab": {
          "base_uri": "https://localhost:8080/",
          "height": 458
        }
      },
      "source": [
        "df.clean_text"
      ],
      "execution_count": 61,
      "outputs": [
        {
          "output_type": "execute_result",
          "data": {
            "text/plain": [
              "0      job requirements  conceptual understanding in ...\n",
              "1      job description  as a data scientist    you wi...\n",
              "2      as a data scientist you will be working on con...\n",
              "3      a monthcontractunder the general supervision o...\n",
              "4      location  usa   multiple locations    years of...\n",
              "                             ...                        \n",
              "421    about us  want to be part of a fantastic and f...\n",
              "422    internshipat uber  we ignite opportunity by se...\n",
              "423    a yeara million people a year die in car colli...\n",
              "424    senior data scientist job description  about u...\n",
              "425    cerner intelligence is a new  innovative organ...\n",
              "Name: clean_text, Length: 426, dtype: object"
            ],
            "text/html": [
              "<div>\n",
              "<style scoped>\n",
              "    .dataframe tbody tr th:only-of-type {\n",
              "        vertical-align: middle;\n",
              "    }\n",
              "\n",
              "    .dataframe tbody tr th {\n",
              "        vertical-align: top;\n",
              "    }\n",
              "\n",
              "    .dataframe thead th {\n",
              "        text-align: right;\n",
              "    }\n",
              "</style>\n",
              "<table border=\"1\" class=\"dataframe\">\n",
              "  <thead>\n",
              "    <tr style=\"text-align: right;\">\n",
              "      <th></th>\n",
              "      <th>clean_text</th>\n",
              "    </tr>\n",
              "  </thead>\n",
              "  <tbody>\n",
              "    <tr>\n",
              "      <th>0</th>\n",
              "      <td>job requirements  conceptual understanding in ...</td>\n",
              "    </tr>\n",
              "    <tr>\n",
              "      <th>1</th>\n",
              "      <td>job description  as a data scientist    you wi...</td>\n",
              "    </tr>\n",
              "    <tr>\n",
              "      <th>2</th>\n",
              "      <td>as a data scientist you will be working on con...</td>\n",
              "    </tr>\n",
              "    <tr>\n",
              "      <th>3</th>\n",
              "      <td>a monthcontractunder the general supervision o...</td>\n",
              "    </tr>\n",
              "    <tr>\n",
              "      <th>4</th>\n",
              "      <td>location  usa   multiple locations    years of...</td>\n",
              "    </tr>\n",
              "    <tr>\n",
              "      <th>...</th>\n",
              "      <td>...</td>\n",
              "    </tr>\n",
              "    <tr>\n",
              "      <th>421</th>\n",
              "      <td>about us  want to be part of a fantastic and f...</td>\n",
              "    </tr>\n",
              "    <tr>\n",
              "      <th>422</th>\n",
              "      <td>internshipat uber  we ignite opportunity by se...</td>\n",
              "    </tr>\n",
              "    <tr>\n",
              "      <th>423</th>\n",
              "      <td>a yeara million people a year die in car colli...</td>\n",
              "    </tr>\n",
              "    <tr>\n",
              "      <th>424</th>\n",
              "      <td>senior data scientist job description  about u...</td>\n",
              "    </tr>\n",
              "    <tr>\n",
              "      <th>425</th>\n",
              "      <td>cerner intelligence is a new  innovative organ...</td>\n",
              "    </tr>\n",
              "  </tbody>\n",
              "</table>\n",
              "<p>426 rows × 1 columns</p>\n",
              "</div><br><label><b>dtype:</b> object</label>"
            ]
          },
          "metadata": {},
          "execution_count": 61
        }
      ]
    },
    {
      "cell_type": "markdown",
      "metadata": {
        "id": "5C4xFZNtX1m2"
      },
      "source": [
        "## 2) Use Spacy to tokenize the listings\n",
        "Remove stop words, punctuation and spaces, and whatever else you want to remove"
      ]
    },
    {
      "cell_type": "code",
      "metadata": {
        "id": "5WPJCxnQt2Tp"
      },
      "source": [
        "## YOUR CODE HERE\n",
        "def tokenizer(text):\n",
        "    \"\"\"\n",
        "    Uses spaCy language model to tokenize text.\n",
        "    Token filters are used to exclude low quality tokens.\n",
        "\n",
        "    Note\n",
        "    ----\n",
        "    Remember to check out the spacy docs to see which token flags are available for you to use\n",
        "    https://spacy.io/api/token\n",
        "\n",
        "    Input\n",
        "    ----------\n",
        "    text: string\n",
        "        raw text document that needs to be tokenized\n",
        "\n",
        "    Returns\n",
        "    -------\n",
        "    tokens: list of strings\n",
        "    \"\"\"\n",
        "\n",
        "    doc = nlp(text)\n",
        "\n",
        "    lemma_list = [token.lemma_.lower().strip() for token in doc if (not token.is_stop)\n",
        "                                                                and (not token.is_punct)\n",
        "                                                                and (not token.is_digit)\n",
        "                                                                and (not token.like_num)\n",
        "                                                                and (token.lemma_.strip() != \"\")\n",
        "                                                                and (len(token.lemma_.strip()) > 1)]\n",
        "\n",
        "    return lemma_list"
      ],
      "execution_count": 21,
      "outputs": []
    },
    {
      "cell_type": "markdown",
      "metadata": {
        "id": "YM0TLvgknvfY"
      },
      "source": [
        "### Apply our tokenizer function via `pandas.apply()`"
      ]
    },
    {
      "cell_type": "code",
      "metadata": {
        "id": "qfPD-_FvN_LT"
      },
      "source": [
        "df[\"lemmas\"] = df.clean_text.apply(tokenizer)"
      ],
      "execution_count": 65,
      "outputs": []
    },
    {
      "cell_type": "code",
      "metadata": {
        "id": "AubGA_nbN_LT",
        "outputId": "f55ab08b-41ce-4c2e-8120-5fec7d4e42f1",
        "colab": {
          "base_uri": "https://localhost:8080/",
          "height": 458
        }
      },
      "source": [
        "df[\"lemmas\"]"
      ],
      "execution_count": 66,
      "outputs": [
        {
          "output_type": "execute_result",
          "data": {
            "text/plain": [
              "0      [job, requirement, conceptual, understanding, ...\n",
              "1      [job, description, data, scientist, help, buil...\n",
              "2      [data, scientist, work, consult, business, res...\n",
              "3      [monthcontractunder, general, supervision, pro...\n",
              "4      [location, usa, multiple, location, year, anal...\n",
              "                             ...                        \n",
              "421    [want, fantastic, fun, startup, revolutionize,...\n",
              "422    [internshipat, uber, ignite, opportunity, set,...\n",
              "423    [yeara, people, year, die, car, collision, wor...\n",
              "424    [senior, data, scientist, job, description, am...\n",
              "425    [cerner, intelligence, new, innovative, organi...\n",
              "Name: lemmas, Length: 426, dtype: object"
            ],
            "text/html": [
              "<div>\n",
              "<style scoped>\n",
              "    .dataframe tbody tr th:only-of-type {\n",
              "        vertical-align: middle;\n",
              "    }\n",
              "\n",
              "    .dataframe tbody tr th {\n",
              "        vertical-align: top;\n",
              "    }\n",
              "\n",
              "    .dataframe thead th {\n",
              "        text-align: right;\n",
              "    }\n",
              "</style>\n",
              "<table border=\"1\" class=\"dataframe\">\n",
              "  <thead>\n",
              "    <tr style=\"text-align: right;\">\n",
              "      <th></th>\n",
              "      <th>lemmas</th>\n",
              "    </tr>\n",
              "  </thead>\n",
              "  <tbody>\n",
              "    <tr>\n",
              "      <th>0</th>\n",
              "      <td>[job, requirement, conceptual, understanding, ...</td>\n",
              "    </tr>\n",
              "    <tr>\n",
              "      <th>1</th>\n",
              "      <td>[job, description, data, scientist, help, buil...</td>\n",
              "    </tr>\n",
              "    <tr>\n",
              "      <th>2</th>\n",
              "      <td>[data, scientist, work, consult, business, res...</td>\n",
              "    </tr>\n",
              "    <tr>\n",
              "      <th>3</th>\n",
              "      <td>[monthcontractunder, general, supervision, pro...</td>\n",
              "    </tr>\n",
              "    <tr>\n",
              "      <th>4</th>\n",
              "      <td>[location, usa, multiple, location, year, anal...</td>\n",
              "    </tr>\n",
              "    <tr>\n",
              "      <th>...</th>\n",
              "      <td>...</td>\n",
              "    </tr>\n",
              "    <tr>\n",
              "      <th>421</th>\n",
              "      <td>[want, fantastic, fun, startup, revolutionize,...</td>\n",
              "    </tr>\n",
              "    <tr>\n",
              "      <th>422</th>\n",
              "      <td>[internshipat, uber, ignite, opportunity, set,...</td>\n",
              "    </tr>\n",
              "    <tr>\n",
              "      <th>423</th>\n",
              "      <td>[yeara, people, year, die, car, collision, wor...</td>\n",
              "    </tr>\n",
              "    <tr>\n",
              "      <th>424</th>\n",
              "      <td>[senior, data, scientist, job, description, am...</td>\n",
              "    </tr>\n",
              "    <tr>\n",
              "      <th>425</th>\n",
              "      <td>[cerner, intelligence, new, innovative, organi...</td>\n",
              "    </tr>\n",
              "  </tbody>\n",
              "</table>\n",
              "<p>426 rows × 1 columns</p>\n",
              "</div><br><label><b>dtype:</b> object</label>"
            ]
          },
          "metadata": {},
          "execution_count": 66
        }
      ]
    },
    {
      "cell_type": "markdown",
      "metadata": {
        "id": "-lgCZNL_YycP"
      },
      "source": [
        "## 3) Use Scikit-Learn's CountVectorizer to get word counts for each listing.\n",
        "\n",
        "- Instantiate a `CountVectorizer` object\n",
        "- Pass the tokenizer that you created above as a parameter value into `CountVectorizer`\n",
        "- Use `CountVectorizer` to create a *document-term matrix*\n",
        "- Copy your *document-term matrix* into a `pandas` dataframe, getting the column names from the `CountVectorizer` object\n",
        "- Consider using `CountVectorizer` parameters like `stop_words` and `max_df`, `min_df` to trim your results\n",
        "    \n",
        "Once you've created your `dtm` dataframe, you might notice that some (or many) of your features result from data that still needs more cleaning. Use this as an opportunity to iteratively improve your `tokenizer` function."
      ]
    },
    {
      "cell_type": "code",
      "metadata": {
        "id": "X2PZ8Pj_YxcF",
        "nbgrader": {
          "grade": false,
          "grade_id": "cell-5e59f69ad91aed03",
          "locked": false,
          "schema_version": 3,
          "solution": true,
          "task": false
        },
        "outputId": "2994f30e-d19f-4530-aaab-ce5bdfaf9918",
        "colab": {
          "base_uri": "https://localhost:8080/"
        }
      },
      "source": [
        "###BEGIN SOLUTION\n",
        "# COMPLETE THE CODE IN THIS CELL\n",
        "vect = CountVectorizer(tokenizer=tokenizer, stop_words='english', min_df=0.05, max_df=0.25)\n",
        "dtm_tf = vect.fit_transform(df.clean_text) # Here, tf stands for \"term frequency, i.e. counts for each term\"\n",
        "dtm_tf = pd.DataFrame(dtm_tf.todense(), columns=vect.get_feature_names_out())\n",
        "###END SOLUTION"
      ],
      "execution_count": 67,
      "outputs": [
        {
          "output_type": "stream",
          "name": "stderr",
          "text": [
            "/usr/local/lib/python3.12/dist-packages/sklearn/feature_extraction/text.py:517: UserWarning: The parameter 'token_pattern' will not be used since 'tokenizer' is not None'\n",
            "  warnings.warn(\n"
          ]
        }
      ]
    },
    {
      "cell_type": "code",
      "metadata": {
        "id": "XO3ISFiCN_LV",
        "outputId": "1cd24115-8b9c-402d-93ec-d36bcc8b8376",
        "colab": {
          "base_uri": "https://localhost:8080/",
          "height": 424
        }
      },
      "source": [
        "dtm_tf"
      ],
      "execution_count": 68,
      "outputs": [
        {
          "output_type": "execute_result",
          "data": {
            "text/plain": [
              "     able  academic  accelerate  accept  access  accommodation  accuracy  \\\n",
              "0       0         0           0       0       0              0         0   \n",
              "1       0         0           0       0       0              0         1   \n",
              "2       0         0           0       0       0              0         0   \n",
              "3       0         0           0       0       0              0         0   \n",
              "4       0         0           0       0       0              0         0   \n",
              "..    ...       ...         ...     ...     ...            ...       ...   \n",
              "421     0         0           0       0       0              0         0   \n",
              "422     0         0           0       0       0              0         0   \n",
              "423     0         0           0       0       0              0         0   \n",
              "424     2         0           2       0       0              0         0   \n",
              "425     0         0           0       0       0              0         0   \n",
              "\n",
              "     achieve  acquisition  act  ...  want  web  week  welcome  wide  win  \\\n",
              "0          0            0    0  ...     0    0     0        0     0    0   \n",
              "1          0            0    1  ...     0    0     0        0     0    0   \n",
              "2          0            0    0  ...     0    0     0        0     0    0   \n",
              "3          0            0    0  ...     0    0     0        0     0    0   \n",
              "4          0            0    0  ...     0    0     0        0     0    0   \n",
              "..       ...          ...  ...  ...   ...  ...   ...      ...   ...  ...   \n",
              "421        0            0    0  ...     2    0     0        0     0    0   \n",
              "422        0            0    0  ...     0    0     0        1     0    0   \n",
              "423        0            0    1  ...     1    0     2        1     0    0   \n",
              "424        0            0    0  ...     1    0     0        0     0    0   \n",
              "425        1            0    0  ...     0    0     0        0     0    0   \n",
              "\n",
              "     workforce  workplace  www  york  \n",
              "0            0          0    0     0  \n",
              "1            0          0    0     0  \n",
              "2            0          0    0     0  \n",
              "3            0          0    0     0  \n",
              "4            0          0    0     0  \n",
              "..         ...        ...  ...   ...  \n",
              "421          0          0    1     1  \n",
              "422          0          0    0     0  \n",
              "423          0          0    0     0  \n",
              "424          0          0    0     0  \n",
              "425          0          1    0     0  \n",
              "\n",
              "[426 rows x 691 columns]"
            ],
            "text/html": [
              "\n",
              "  <div id=\"df-7336e395-68b6-4f21-9ca6-6d225b77c1f6\" class=\"colab-df-container\">\n",
              "    <div>\n",
              "<style scoped>\n",
              "    .dataframe tbody tr th:only-of-type {\n",
              "        vertical-align: middle;\n",
              "    }\n",
              "\n",
              "    .dataframe tbody tr th {\n",
              "        vertical-align: top;\n",
              "    }\n",
              "\n",
              "    .dataframe thead th {\n",
              "        text-align: right;\n",
              "    }\n",
              "</style>\n",
              "<table border=\"1\" class=\"dataframe\">\n",
              "  <thead>\n",
              "    <tr style=\"text-align: right;\">\n",
              "      <th></th>\n",
              "      <th>able</th>\n",
              "      <th>academic</th>\n",
              "      <th>accelerate</th>\n",
              "      <th>accept</th>\n",
              "      <th>access</th>\n",
              "      <th>accommodation</th>\n",
              "      <th>accuracy</th>\n",
              "      <th>achieve</th>\n",
              "      <th>acquisition</th>\n",
              "      <th>act</th>\n",
              "      <th>...</th>\n",
              "      <th>want</th>\n",
              "      <th>web</th>\n",
              "      <th>week</th>\n",
              "      <th>welcome</th>\n",
              "      <th>wide</th>\n",
              "      <th>win</th>\n",
              "      <th>workforce</th>\n",
              "      <th>workplace</th>\n",
              "      <th>www</th>\n",
              "      <th>york</th>\n",
              "    </tr>\n",
              "  </thead>\n",
              "  <tbody>\n",
              "    <tr>\n",
              "      <th>0</th>\n",
              "      <td>0</td>\n",
              "      <td>0</td>\n",
              "      <td>0</td>\n",
              "      <td>0</td>\n",
              "      <td>0</td>\n",
              "      <td>0</td>\n",
              "      <td>0</td>\n",
              "      <td>0</td>\n",
              "      <td>0</td>\n",
              "      <td>0</td>\n",
              "      <td>...</td>\n",
              "      <td>0</td>\n",
              "      <td>0</td>\n",
              "      <td>0</td>\n",
              "      <td>0</td>\n",
              "      <td>0</td>\n",
              "      <td>0</td>\n",
              "      <td>0</td>\n",
              "      <td>0</td>\n",
              "      <td>0</td>\n",
              "      <td>0</td>\n",
              "    </tr>\n",
              "    <tr>\n",
              "      <th>1</th>\n",
              "      <td>0</td>\n",
              "      <td>0</td>\n",
              "      <td>0</td>\n",
              "      <td>0</td>\n",
              "      <td>0</td>\n",
              "      <td>0</td>\n",
              "      <td>1</td>\n",
              "      <td>0</td>\n",
              "      <td>0</td>\n",
              "      <td>1</td>\n",
              "      <td>...</td>\n",
              "      <td>0</td>\n",
              "      <td>0</td>\n",
              "      <td>0</td>\n",
              "      <td>0</td>\n",
              "      <td>0</td>\n",
              "      <td>0</td>\n",
              "      <td>0</td>\n",
              "      <td>0</td>\n",
              "      <td>0</td>\n",
              "      <td>0</td>\n",
              "    </tr>\n",
              "    <tr>\n",
              "      <th>2</th>\n",
              "      <td>0</td>\n",
              "      <td>0</td>\n",
              "      <td>0</td>\n",
              "      <td>0</td>\n",
              "      <td>0</td>\n",
              "      <td>0</td>\n",
              "      <td>0</td>\n",
              "      <td>0</td>\n",
              "      <td>0</td>\n",
              "      <td>0</td>\n",
              "      <td>...</td>\n",
              "      <td>0</td>\n",
              "      <td>0</td>\n",
              "      <td>0</td>\n",
              "      <td>0</td>\n",
              "      <td>0</td>\n",
              "      <td>0</td>\n",
              "      <td>0</td>\n",
              "      <td>0</td>\n",
              "      <td>0</td>\n",
              "      <td>0</td>\n",
              "    </tr>\n",
              "    <tr>\n",
              "      <th>3</th>\n",
              "      <td>0</td>\n",
              "      <td>0</td>\n",
              "      <td>0</td>\n",
              "      <td>0</td>\n",
              "      <td>0</td>\n",
              "      <td>0</td>\n",
              "      <td>0</td>\n",
              "      <td>0</td>\n",
              "      <td>0</td>\n",
              "      <td>0</td>\n",
              "      <td>...</td>\n",
              "      <td>0</td>\n",
              "      <td>0</td>\n",
              "      <td>0</td>\n",
              "      <td>0</td>\n",
              "      <td>0</td>\n",
              "      <td>0</td>\n",
              "      <td>0</td>\n",
              "      <td>0</td>\n",
              "      <td>0</td>\n",
              "      <td>0</td>\n",
              "    </tr>\n",
              "    <tr>\n",
              "      <th>4</th>\n",
              "      <td>0</td>\n",
              "      <td>0</td>\n",
              "      <td>0</td>\n",
              "      <td>0</td>\n",
              "      <td>0</td>\n",
              "      <td>0</td>\n",
              "      <td>0</td>\n",
              "      <td>0</td>\n",
              "      <td>0</td>\n",
              "      <td>0</td>\n",
              "      <td>...</td>\n",
              "      <td>0</td>\n",
              "      <td>0</td>\n",
              "      <td>0</td>\n",
              "      <td>0</td>\n",
              "      <td>0</td>\n",
              "      <td>0</td>\n",
              "      <td>0</td>\n",
              "      <td>0</td>\n",
              "      <td>0</td>\n",
              "      <td>0</td>\n",
              "    </tr>\n",
              "    <tr>\n",
              "      <th>...</th>\n",
              "      <td>...</td>\n",
              "      <td>...</td>\n",
              "      <td>...</td>\n",
              "      <td>...</td>\n",
              "      <td>...</td>\n",
              "      <td>...</td>\n",
              "      <td>...</td>\n",
              "      <td>...</td>\n",
              "      <td>...</td>\n",
              "      <td>...</td>\n",
              "      <td>...</td>\n",
              "      <td>...</td>\n",
              "      <td>...</td>\n",
              "      <td>...</td>\n",
              "      <td>...</td>\n",
              "      <td>...</td>\n",
              "      <td>...</td>\n",
              "      <td>...</td>\n",
              "      <td>...</td>\n",
              "      <td>...</td>\n",
              "      <td>...</td>\n",
              "    </tr>\n",
              "    <tr>\n",
              "      <th>421</th>\n",
              "      <td>0</td>\n",
              "      <td>0</td>\n",
              "      <td>0</td>\n",
              "      <td>0</td>\n",
              "      <td>0</td>\n",
              "      <td>0</td>\n",
              "      <td>0</td>\n",
              "      <td>0</td>\n",
              "      <td>0</td>\n",
              "      <td>0</td>\n",
              "      <td>...</td>\n",
              "      <td>2</td>\n",
              "      <td>0</td>\n",
              "      <td>0</td>\n",
              "      <td>0</td>\n",
              "      <td>0</td>\n",
              "      <td>0</td>\n",
              "      <td>0</td>\n",
              "      <td>0</td>\n",
              "      <td>1</td>\n",
              "      <td>1</td>\n",
              "    </tr>\n",
              "    <tr>\n",
              "      <th>422</th>\n",
              "      <td>0</td>\n",
              "      <td>0</td>\n",
              "      <td>0</td>\n",
              "      <td>0</td>\n",
              "      <td>0</td>\n",
              "      <td>0</td>\n",
              "      <td>0</td>\n",
              "      <td>0</td>\n",
              "      <td>0</td>\n",
              "      <td>0</td>\n",
              "      <td>...</td>\n",
              "      <td>0</td>\n",
              "      <td>0</td>\n",
              "      <td>0</td>\n",
              "      <td>1</td>\n",
              "      <td>0</td>\n",
              "      <td>0</td>\n",
              "      <td>0</td>\n",
              "      <td>0</td>\n",
              "      <td>0</td>\n",
              "      <td>0</td>\n",
              "    </tr>\n",
              "    <tr>\n",
              "      <th>423</th>\n",
              "      <td>0</td>\n",
              "      <td>0</td>\n",
              "      <td>0</td>\n",
              "      <td>0</td>\n",
              "      <td>0</td>\n",
              "      <td>0</td>\n",
              "      <td>0</td>\n",
              "      <td>0</td>\n",
              "      <td>0</td>\n",
              "      <td>1</td>\n",
              "      <td>...</td>\n",
              "      <td>1</td>\n",
              "      <td>0</td>\n",
              "      <td>2</td>\n",
              "      <td>1</td>\n",
              "      <td>0</td>\n",
              "      <td>0</td>\n",
              "      <td>0</td>\n",
              "      <td>0</td>\n",
              "      <td>0</td>\n",
              "      <td>0</td>\n",
              "    </tr>\n",
              "    <tr>\n",
              "      <th>424</th>\n",
              "      <td>2</td>\n",
              "      <td>0</td>\n",
              "      <td>2</td>\n",
              "      <td>0</td>\n",
              "      <td>0</td>\n",
              "      <td>0</td>\n",
              "      <td>0</td>\n",
              "      <td>0</td>\n",
              "      <td>0</td>\n",
              "      <td>0</td>\n",
              "      <td>...</td>\n",
              "      <td>1</td>\n",
              "      <td>0</td>\n",
              "      <td>0</td>\n",
              "      <td>0</td>\n",
              "      <td>0</td>\n",
              "      <td>0</td>\n",
              "      <td>0</td>\n",
              "      <td>0</td>\n",
              "      <td>0</td>\n",
              "      <td>0</td>\n",
              "    </tr>\n",
              "    <tr>\n",
              "      <th>425</th>\n",
              "      <td>0</td>\n",
              "      <td>0</td>\n",
              "      <td>0</td>\n",
              "      <td>0</td>\n",
              "      <td>0</td>\n",
              "      <td>0</td>\n",
              "      <td>0</td>\n",
              "      <td>1</td>\n",
              "      <td>0</td>\n",
              "      <td>0</td>\n",
              "      <td>...</td>\n",
              "      <td>0</td>\n",
              "      <td>0</td>\n",
              "      <td>0</td>\n",
              "      <td>0</td>\n",
              "      <td>0</td>\n",
              "      <td>0</td>\n",
              "      <td>0</td>\n",
              "      <td>1</td>\n",
              "      <td>0</td>\n",
              "      <td>0</td>\n",
              "    </tr>\n",
              "  </tbody>\n",
              "</table>\n",
              "<p>426 rows × 691 columns</p>\n",
              "</div>\n",
              "    <div class=\"colab-df-buttons\">\n",
              "      \n",
              "  <div class=\"colab-df-container\">\n",
              "    <button class=\"colab-df-convert\" onclick=\"convertToInteractive('df-7336e395-68b6-4f21-9ca6-6d225b77c1f6')\"\n",
              "            title=\"Convert this dataframe to an interactive table.\"\n",
              "            style=\"display:none;\">\n",
              "      \n",
              "  <svg xmlns=\"http://www.w3.org/2000/svg\" height=\"24px\" viewBox=\"0 -960 960 960\">\n",
              "    <path d=\"M120-120v-720h720v720H120Zm60-500h600v-160H180v160Zm220 220h160v-160H400v160Zm0 220h160v-160H400v160ZM180-400h160v-160H180v160Zm440 0h160v-160H620v160ZM180-180h160v-160H180v160Zm440 0h160v-160H620v160Z\"/>\n",
              "  </svg>\n",
              "    </button>\n",
              "    \n",
              "  <style>\n",
              "    .colab-df-container {\n",
              "      display:flex;\n",
              "      gap: 12px;\n",
              "    }\n",
              "\n",
              "    .colab-df-convert {\n",
              "      background-color: #E8F0FE;\n",
              "      border: none;\n",
              "      border-radius: 50%;\n",
              "      cursor: pointer;\n",
              "      display: none;\n",
              "      fill: #1967D2;\n",
              "      height: 32px;\n",
              "      padding: 0 0 0 0;\n",
              "      width: 32px;\n",
              "    }\n",
              "\n",
              "    .colab-df-convert:hover {\n",
              "      background-color: #E2EBFA;\n",
              "      box-shadow: 0px 1px 2px rgba(60, 64, 67, 0.3), 0px 1px 3px 1px rgba(60, 64, 67, 0.15);\n",
              "      fill: #174EA6;\n",
              "    }\n",
              "\n",
              "    .colab-df-buttons div {\n",
              "      margin-bottom: 4px;\n",
              "    }\n",
              "\n",
              "    [theme=dark] .colab-df-convert {\n",
              "      background-color: #3B4455;\n",
              "      fill: #D2E3FC;\n",
              "    }\n",
              "\n",
              "    [theme=dark] .colab-df-convert:hover {\n",
              "      background-color: #434B5C;\n",
              "      box-shadow: 0px 1px 3px 1px rgba(0, 0, 0, 0.15);\n",
              "      filter: drop-shadow(0px 1px 2px rgba(0, 0, 0, 0.3));\n",
              "      fill: #FFFFFF;\n",
              "    }\n",
              "  </style>\n",
              "\n",
              "    <script>\n",
              "      const buttonEl =\n",
              "        document.querySelector('#df-7336e395-68b6-4f21-9ca6-6d225b77c1f6 button.colab-df-convert');\n",
              "      buttonEl.style.display =\n",
              "        google.colab.kernel.accessAllowed ? 'block' : 'none';\n",
              "\n",
              "      async function convertToInteractive(key) {\n",
              "        const element = document.querySelector('#df-7336e395-68b6-4f21-9ca6-6d225b77c1f6');\n",
              "        const dataTable =\n",
              "          await google.colab.kernel.invokeFunction('convertToInteractive',\n",
              "                                                    [key], {});\n",
              "        if (!dataTable) return;\n",
              "\n",
              "        const docLinkHtml = 'Like what you see? Visit the ' +\n",
              "          '<a target=\"_blank\" href=https://colab.research.google.com/notebooks/data_table.ipynb>data table notebook</a>'\n",
              "          + ' to learn more about interactive tables.';\n",
              "        element.innerHTML = '';\n",
              "        dataTable['output_type'] = 'display_data';\n",
              "        await google.colab.output.renderOutput(dataTable, element);\n",
              "        const docLink = document.createElement('div');\n",
              "        docLink.innerHTML = docLinkHtml;\n",
              "        element.appendChild(docLink);\n",
              "      }\n",
              "    </script>\n",
              "  </div>\n",
              "  \n",
              "    </div>\n",
              "  </div>\n",
              "  "
            ],
            "application/vnd.google.colaboratory.intrinsic+json": {
              "type": "dataframe",
              "variable_name": "dtm_tf"
            }
          },
          "metadata": {},
          "execution_count": 68
        }
      ]
    },
    {
      "cell_type": "markdown",
      "metadata": {
        "id": "Zo1iH_UeY7_n"
      },
      "source": [
        "## 4) Visualize the most common word counts in a barplot"
      ]
    },
    {
      "cell_type": "code",
      "metadata": {
        "nbgrader": {
          "grade": false,
          "grade_id": "cell-28e6e72be885c0d4",
          "locked": false,
          "schema_version": 3,
          "solution": true,
          "task": false
        },
        "id": "zTO2axiBN_LV",
        "outputId": "dc8ed70c-2995-4505-b097-b8792c420429",
        "colab": {
          "base_uri": "https://localhost:8080/",
          "height": 869
        }
      },
      "source": [
        "###BEGIN SOLUTION\n",
        "# COMPLETE THE CODE IN THIS CELL\n",
        "\n",
        "top_n = 20\n",
        "# sum the term counts in each column of the dtm_tf data frame and then sort in descending order\n",
        "sorted_terms = dtm_tf.sum().sort_values(ascending=False)\n",
        "\n",
        "plt.title(\"Top {} Most Common Words in Tech Job Listings\".format(top_n), fontsize=14)\n",
        "sorted_terms[:top_n].plot(kind=\"bar\", figsize=(20,8), grid=True, fontsize=14)\n",
        "###END SOLUTION"
      ],
      "execution_count": 69,
      "outputs": [
        {
          "output_type": "execute_result",
          "data": {
            "text/plain": [
              "<Axes: title={'center': 'Top 20 Most Common Words in Tech Job Listings'}>"
            ]
          },
          "metadata": {},
          "execution_count": 69
        },
        {
          "output_type": "display_data",
          "data": {
            "text/plain": [
              "<Figure size 2000x800 with 1 Axes>"
            ],
            "image/png": "[encoded data removed]"
          },
          "metadata": {}
        }
      ]
    },
    {
      "cell_type": "markdown",
      "metadata": {
        "id": "bwFsTqrVZMYi"
      },
      "source": [
        "## 5) Use Scikit-Learn's `TfidfVectorizer` to get a TF-IDF feature matrix\n",
        "\n",
        "- Instantiate a `TfidfVectorizer` object\n",
        "- Pass the tokenizer that you created above as a parameter value into `TfidfVectorizer`\n",
        "- Use `TfidfVectorizer` to create a *document-term matrix*\n",
        "- Copy your *document-term matrix* into a `pandas` dataframe, getting the column names from the `TfidfVectorizer` object\n"
      ]
    },
    {
      "cell_type": "code",
      "metadata": {
        "id": "-gx2gZCbl5Np",
        "nbgrader": {
          "grade": false,
          "grade_id": "cell-91b92ce728d8f3eb",
          "locked": false,
          "schema_version": 3,
          "solution": true,
          "task": false
        },
        "outputId": "900d1d5f-cf2a-4f7c-e604-fb7ff5f999fd",
        "colab": {
          "base_uri": "https://localhost:8080/"
        }
      },
      "source": [
        "###BEGIN SOLUTION\n",
        "tfidf = TfidfVectorizer(tokenizer=tokenizer, stop_words='english', min_df=0.05, max_df=0.25)\n",
        "\n",
        "dtm_tfidf = tfidf.fit_transform(df.clean_text)\n",
        "dtm_tfidf = pd.DataFrame(dtm_tfidf.todense(), columns=tfidf.get_feature_names_out())\n",
        "###END SOLUTION"
      ],
      "execution_count": 70,
      "outputs": [
        {
          "output_type": "stream",
          "name": "stderr",
          "text": [
            "/usr/local/lib/python3.12/dist-packages/sklearn/feature_extraction/text.py:517: UserWarning: The parameter 'token_pattern' will not be used since 'tokenizer' is not None'\n",
            "  warnings.warn(\n"
          ]
        }
      ]
    },
    {
      "cell_type": "code",
      "metadata": {
        "id": "0Um4GYV2N_LY",
        "outputId": "46491482-4646-4427-8a00-16b6ec19edf7",
        "colab": {
          "base_uri": "https://localhost:8080/",
          "height": 424
        }
      },
      "source": [
        "dtm_tfidf"
      ],
      "execution_count": 71,
      "outputs": [
        {
          "output_type": "execute_result",
          "data": {
            "text/plain": [
              "         able  academic  accelerate  accept  access  accommodation  accuracy  \\\n",
              "0    0.000000       0.0    0.000000     0.0     0.0            0.0  0.000000   \n",
              "1    0.000000       0.0    0.000000     0.0     0.0            0.0  0.081392   \n",
              "2    0.000000       0.0    0.000000     0.0     0.0            0.0  0.000000   \n",
              "3    0.000000       0.0    0.000000     0.0     0.0            0.0  0.000000   \n",
              "4    0.000000       0.0    0.000000     0.0     0.0            0.0  0.000000   \n",
              "..        ...       ...         ...     ...     ...            ...       ...   \n",
              "421  0.000000       0.0    0.000000     0.0     0.0            0.0  0.000000   \n",
              "422  0.000000       0.0    0.000000     0.0     0.0            0.0  0.000000   \n",
              "423  0.000000       0.0    0.000000     0.0     0.0            0.0  0.000000   \n",
              "424  0.128056       0.0    0.189558     0.0     0.0            0.0  0.000000   \n",
              "425  0.000000       0.0    0.000000     0.0     0.0            0.0  0.000000   \n",
              "\n",
              "      achieve  acquisition       act  ...      want  web      week   welcome  \\\n",
              "0    0.000000          0.0  0.000000  ...  0.000000  0.0  0.000000  0.000000   \n",
              "1    0.000000          0.0  0.091120  ...  0.000000  0.0  0.000000  0.000000   \n",
              "2    0.000000          0.0  0.000000  ...  0.000000  0.0  0.000000  0.000000   \n",
              "3    0.000000          0.0  0.000000  ...  0.000000  0.0  0.000000  0.000000   \n",
              "4    0.000000          0.0  0.000000  ...  0.000000  0.0  0.000000  0.000000   \n",
              "..        ...          ...       ...  ...       ...  ...       ...       ...   \n",
              "421  0.000000          0.0  0.000000  ...  0.102844  0.0  0.000000  0.000000   \n",
              "422  0.000000          0.0  0.000000  ...  0.000000  0.0  0.000000  0.071928   \n",
              "423  0.000000          0.0  0.116285  ...  0.086337  0.0  0.224425  0.108607   \n",
              "424  0.000000          0.0  0.000000  ...  0.070370  0.0  0.000000  0.000000   \n",
              "425  0.060567          0.0  0.000000  ...  0.000000  0.0  0.000000  0.000000   \n",
              "\n",
              "     wide  win  workforce  workplace       www      york  \n",
              "0     0.0  0.0        0.0   0.000000  0.000000  0.000000  \n",
              "1     0.0  0.0        0.0   0.000000  0.000000  0.000000  \n",
              "2     0.0  0.0        0.0   0.000000  0.000000  0.000000  \n",
              "3     0.0  0.0        0.0   0.000000  0.000000  0.000000  \n",
              "4     0.0  0.0        0.0   0.000000  0.000000  0.000000  \n",
              "..    ...  ...        ...        ...       ...       ...  \n",
              "421   0.0  0.0        0.0   0.000000  0.061865  0.071309  \n",
              "422   0.0  0.0        0.0   0.000000  0.000000  0.000000  \n",
              "423   0.0  0.0        0.0   0.000000  0.000000  0.000000  \n",
              "424   0.0  0.0        0.0   0.000000  0.000000  0.000000  \n",
              "425   0.0  0.0        0.0   0.065983  0.000000  0.000000  \n",
              "\n",
              "[426 rows x 691 columns]"
            ],
            "text/html": [
              "\n",
              "  <div id=\"df-ef8acb20-4f64-44b2-8198-b4b2e1b7b9d2\" class=\"colab-df-container\">\n",
              "    <div>\n",
              "<style scoped>\n",
              "    .dataframe tbody tr th:only-of-type {\n",
              "        vertical-align: middle;\n",
              "    }\n",
              "\n",
              "    .dataframe tbody tr th {\n",
              "        vertical-align: top;\n",
              "    }\n",
              "\n",
              "    .dataframe thead th {\n",
              "        text-align: right;\n",
              "    }\n",
              "</style>\n",
              "<table border=\"1\" class=\"dataframe\">\n",
              "  <thead>\n",
              "    <tr style=\"text-align: right;\">\n",
              "      <th></th>\n",
              "      <th>able</th>\n",
              "      <th>academic</th>\n",
              "      <th>accelerate</th>\n",
              "      <th>accept</th>\n",
              "      <th>access</th>\n",
              "      <th>accommodation</th>\n",
              "      <th>accuracy</th>\n",
              "      <th>achieve</th>\n",
              "      <th>acquisition</th>\n",
              "      <th>act</th>\n",
              "      <th>...</th>\n",
              "      <th>want</th>\n",
              "      <th>web</th>\n",
              "      <th>week</th>\n",
              "      <th>welcome</th>\n",
              "      <th>wide</th>\n",
              "      <th>win</th>\n",
              "      <th>workforce</th>\n",
              "      <th>workplace</th>\n",
              "      <th>www</th>\n",
              "      <th>york</th>\n",
              "    </tr>\n",
              "  </thead>\n",
              "  <tbody>\n",
              "    <tr>\n",
              "      <th>0</th>\n",
              "      <td>0.000000</td>\n",
              "      <td>0.0</td>\n",
              "      <td>0.000000</td>\n",
              "      <td>0.0</td>\n",
              "      <td>0.0</td>\n",
              "      <td>0.0</td>\n",
              "      <td>0.000000</td>\n",
              "      <td>0.000000</td>\n",
              "      <td>0.0</td>\n",
              "      <td>0.000000</td>\n",
              "      <td>...</td>\n",
              "      <td>0.000000</td>\n",
              "      <td>0.0</td>\n",
              "      <td>0.000000</td>\n",
              "      <td>0.000000</td>\n",
              "      <td>0.0</td>\n",
              "      <td>0.0</td>\n",
              "      <td>0.0</td>\n",
              "      <td>0.000000</td>\n",
              "      <td>0.000000</td>\n",
              "      <td>0.000000</td>\n",
              "    </tr>\n",
              "    <tr>\n",
              "      <th>1</th>\n",
              "      <td>0.000000</td>\n",
              "      <td>0.0</td>\n",
              "      <td>0.000000</td>\n",
              "      <td>0.0</td>\n",
              "      <td>0.0</td>\n",
              "      <td>0.0</td>\n",
              "      <td>0.081392</td>\n",
              "      <td>0.000000</td>\n",
              "      <td>0.0</td>\n",
              "      <td>0.091120</td>\n",
              "      <td>...</td>\n",
              "      <td>0.000000</td>\n",
              "      <td>0.0</td>\n",
              "      <td>0.000000</td>\n",
              "      <td>0.000000</td>\n",
              "      <td>0.0</td>\n",
              "      <td>0.0</td>\n",
              "      <td>0.0</td>\n",
              "      <td>0.000000</td>\n",
              "      <td>0.000000</td>\n",
              "      <td>0.000000</td>\n",
              "    </tr>\n",
              "    <tr>\n",
              "      <th>2</th>\n",
              "      <td>0.000000</td>\n",
              "      <td>0.0</td>\n",
              "      <td>0.000000</td>\n",
              "      <td>0.0</td>\n",
              "      <td>0.0</td>\n",
              "      <td>0.0</td>\n",
              "      <td>0.000000</td>\n",
              "      <td>0.000000</td>\n",
              "      <td>0.0</td>\n",
              "      <td>0.000000</td>\n",
              "      <td>...</td>\n",
              "      <td>0.000000</td>\n",
              "      <td>0.0</td>\n",
              "      <td>0.000000</td>\n",
              "      <td>0.000000</td>\n",
              "      <td>0.0</td>\n",
              "      <td>0.0</td>\n",
              "      <td>0.0</td>\n",
              "      <td>0.000000</td>\n",
              "      <td>0.000000</td>\n",
              "      <td>0.000000</td>\n",
              "    </tr>\n",
              "    <tr>\n",
              "      <th>3</th>\n",
              "      <td>0.000000</td>\n",
              "      <td>0.0</td>\n",
              "      <td>0.000000</td>\n",
              "      <td>0.0</td>\n",
              "      <td>0.0</td>\n",
              "      <td>0.0</td>\n",
              "      <td>0.000000</td>\n",
              "      <td>0.000000</td>\n",
              "      <td>0.0</td>\n",
              "      <td>0.000000</td>\n",
              "      <td>...</td>\n",
              "      <td>0.000000</td>\n",
              "      <td>0.0</td>\n",
              "      <td>0.000000</td>\n",
              "      <td>0.000000</td>\n",
              "      <td>0.0</td>\n",
              "      <td>0.0</td>\n",
              "      <td>0.0</td>\n",
              "      <td>0.000000</td>\n",
              "      <td>0.000000</td>\n",
              "      <td>0.000000</td>\n",
              "    </tr>\n",
              "    <tr>\n",
              "      <th>4</th>\n",
              "      <td>0.000000</td>\n",
              "      <td>0.0</td>\n",
              "      <td>0.000000</td>\n",
              "      <td>0.0</td>\n",
              "      <td>0.0</td>\n",
              "      <td>0.0</td>\n",
              "      <td>0.000000</td>\n",
              "      <td>0.000000</td>\n",
              "      <td>0.0</td>\n",
              "      <td>0.000000</td>\n",
              "      <td>...</td>\n",
              "      <td>0.000000</td>\n",
              "      <td>0.0</td>\n",
              "      <td>0.000000</td>\n",
              "      <td>0.000000</td>\n",
              "      <td>0.0</td>\n",
              "      <td>0.0</td>\n",
              "      <td>0.0</td>\n",
              "      <td>0.000000</td>\n",
              "      <td>0.000000</td>\n",
              "      <td>0.000000</td>\n",
              "    </tr>\n",
              "    <tr>\n",
              "      <th>...</th>\n",
              "      <td>...</td>\n",
              "      <td>...</td>\n",
              "      <td>...</td>\n",
              "      <td>...</td>\n",
              "      <td>...</td>\n",
              "      <td>...</td>\n",
              "      <td>...</td>\n",
              "      <td>...</td>\n",
              "      <td>...</td>\n",
              "      <td>...</td>\n",
              "      <td>...</td>\n",
              "      <td>...</td>\n",
              "      <td>...</td>\n",
              "      <td>...</td>\n",
              "      <td>...</td>\n",
              "      <td>...</td>\n",
              "      <td>...</td>\n",
              "      <td>...</td>\n",
              "      <td>...</td>\n",
              "      <td>...</td>\n",
              "      <td>...</td>\n",
              "    </tr>\n",
              "    <tr>\n",
              "      <th>421</th>\n",
              "      <td>0.000000</td>\n",
              "      <td>0.0</td>\n",
              "      <td>0.000000</td>\n",
              "      <td>0.0</td>\n",
              "      <td>0.0</td>\n",
              "      <td>0.0</td>\n",
              "      <td>0.000000</td>\n",
              "      <td>0.000000</td>\n",
              "      <td>0.0</td>\n",
              "      <td>0.000000</td>\n",
              "      <td>...</td>\n",
              "      <td>0.102844</td>\n",
              "      <td>0.0</td>\n",
              "      <td>0.000000</td>\n",
              "      <td>0.000000</td>\n",
              "      <td>0.0</td>\n",
              "      <td>0.0</td>\n",
              "      <td>0.0</td>\n",
              "      <td>0.000000</td>\n",
              "      <td>0.061865</td>\n",
              "      <td>0.071309</td>\n",
              "    </tr>\n",
              "    <tr>\n",
              "      <th>422</th>\n",
              "      <td>0.000000</td>\n",
              "      <td>0.0</td>\n",
              "      <td>0.000000</td>\n",
              "      <td>0.0</td>\n",
              "      <td>0.0</td>\n",
              "      <td>0.0</td>\n",
              "      <td>0.000000</td>\n",
              "      <td>0.000000</td>\n",
              "      <td>0.0</td>\n",
              "      <td>0.000000</td>\n",
              "      <td>...</td>\n",
              "      <td>0.000000</td>\n",
              "      <td>0.0</td>\n",
              "      <td>0.000000</td>\n",
              "      <td>0.071928</td>\n",
              "      <td>0.0</td>\n",
              "      <td>0.0</td>\n",
              "      <td>0.0</td>\n",
              "      <td>0.000000</td>\n",
              "      <td>0.000000</td>\n",
              "      <td>0.000000</td>\n",
              "    </tr>\n",
              "    <tr>\n",
              "      <th>423</th>\n",
              "      <td>0.000000</td>\n",
              "      <td>0.0</td>\n",
              "      <td>0.000000</td>\n",
              "      <td>0.0</td>\n",
              "      <td>0.0</td>\n",
              "      <td>0.0</td>\n",
              "      <td>0.000000</td>\n",
              "      <td>0.000000</td>\n",
              "      <td>0.0</td>\n",
              "      <td>0.116285</td>\n",
              "      <td>...</td>\n",
              "      <td>0.086337</td>\n",
              "      <td>0.0</td>\n",
              "      <td>0.224425</td>\n",
              "      <td>0.108607</td>\n",
              "      <td>0.0</td>\n",
              "      <td>0.0</td>\n",
              "      <td>0.0</td>\n",
              "      <td>0.000000</td>\n",
              "      <td>0.000000</td>\n",
              "      <td>0.000000</td>\n",
              "    </tr>\n",
              "    <tr>\n",
              "      <th>424</th>\n",
              "      <td>0.128056</td>\n",
              "      <td>0.0</td>\n",
              "      <td>0.189558</td>\n",
              "      <td>0.0</td>\n",
              "      <td>0.0</td>\n",
              "      <td>0.0</td>\n",
              "      <td>0.000000</td>\n",
              "      <td>0.000000</td>\n",
              "      <td>0.0</td>\n",
              "      <td>0.000000</td>\n",
              "      <td>...</td>\n",
              "      <td>0.070370</td>\n",
              "      <td>0.0</td>\n",
              "      <td>0.000000</td>\n",
              "      <td>0.000000</td>\n",
              "      <td>0.0</td>\n",
              "      <td>0.0</td>\n",
              "      <td>0.0</td>\n",
              "      <td>0.000000</td>\n",
              "      <td>0.000000</td>\n",
              "      <td>0.000000</td>\n",
              "    </tr>\n",
              "    <tr>\n",
              "      <th>425</th>\n",
              "      <td>0.000000</td>\n",
              "      <td>0.0</td>\n",
              "      <td>0.000000</td>\n",
              "      <td>0.0</td>\n",
              "      <td>0.0</td>\n",
              "      <td>0.0</td>\n",
              "      <td>0.000000</td>\n",
              "      <td>0.060567</td>\n",
              "      <td>0.0</td>\n",
              "      <td>0.000000</td>\n",
              "      <td>...</td>\n",
              "      <td>0.000000</td>\n",
              "      <td>0.0</td>\n",
              "      <td>0.000000</td>\n",
              "      <td>0.000000</td>\n",
              "      <td>0.0</td>\n",
              "      <td>0.0</td>\n",
              "      <td>0.0</td>\n",
              "      <td>0.065983</td>\n",
              "      <td>0.000000</td>\n",
              "      <td>0.000000</td>\n",
              "    </tr>\n",
              "  </tbody>\n",
              "</table>\n",
              "<p>426 rows × 691 columns</p>\n",
              "</div>\n",
              "    <div class=\"colab-df-buttons\">\n",
              "      \n",
              "  <div class=\"colab-df-container\">\n",
              "    <button class=\"colab-df-convert\" onclick=\"convertToInteractive('df-ef8acb20-4f64-44b2-8198-b4b2e1b7b9d2')\"\n",
              "            title=\"Convert this dataframe to an interactive table.\"\n",
              "            style=\"display:none;\">\n",
              "      \n",
              "  <svg xmlns=\"http://www.w3.org/2000/svg\" height=\"24px\" viewBox=\"0 -960 960 960\">\n",
              "    <path d=\"M120-120v-720h720v720H120Zm60-500h600v-160H180v160Zm220 220h160v-160H400v160Zm0 220h160v-160H400v160ZM180-400h160v-160H180v160Zm440 0h160v-160H620v160ZM180-180h160v-160H180v160Zm440 0h160v-160H620v160Z\"/>\n",
              "  </svg>\n",
              "    </button>\n",
              "    \n",
              "  <style>\n",
              "    .colab-df-container {\n",
              "      display:flex;\n",
              "      gap: 12px;\n",
              "    }\n",
              "\n",
              "    .colab-df-convert {\n",
              "      background-color: #E8F0FE;\n",
              "      border: none;\n",
              "      border-radius: 50%;\n",
              "      cursor: pointer;\n",
              "      display: none;\n",
              "      fill: #1967D2;\n",
              "      height: 32px;\n",
              "      padding: 0 0 0 0;\n",
              "      width: 32px;\n",
              "    }\n",
              "\n",
              "    .colab-df-convert:hover {\n",
              "      background-color: #E2EBFA;\n",
              "      box-shadow: 0px 1px 2px rgba(60, 64, 67, 0.3), 0px 1px 3px 1px rgba(60, 64, 67, 0.15);\n",
              "      fill: #174EA6;\n",
              "    }\n",
              "\n",
              "    .colab-df-buttons div {\n",
              "      margin-bottom: 4px;\n",
              "    }\n",
              "\n",
              "    [theme=dark] .colab-df-convert {\n",
              "      background-color: #3B4455;\n",
              "      fill: #D2E3FC;\n",
              "    }\n",
              "\n",
              "    [theme=dark] .colab-df-convert:hover {\n",
              "      background-color: #434B5C;\n",
              "      box-shadow: 0px 1px 3px 1px rgba(0, 0, 0, 0.15);\n",
              "      filter: drop-shadow(0px 1px 2px rgba(0, 0, 0, 0.3));\n",
              "      fill: #FFFFFF;\n",
              "    }\n",
              "  </style>\n",
              "\n",
              "    <script>\n",
              "      const buttonEl =\n",
              "        document.querySelector('#df-ef8acb20-4f64-44b2-8198-b4b2e1b7b9d2 button.colab-df-convert');\n",
              "      buttonEl.style.display =\n",
              "        google.colab.kernel.accessAllowed ? 'block' : 'none';\n",
              "\n",
              "      async function convertToInteractive(key) {\n",
              "        const element = document.querySelector('#df-ef8acb20-4f64-44b2-8198-b4b2e1b7b9d2');\n",
              "        const dataTable =\n",
              "          await google.colab.kernel.invokeFunction('convertToInteractive',\n",
              "                                                    [key], {});\n",
              "        if (!dataTable) return;\n",
              "\n",
              "        const docLinkHtml = 'Like what you see? Visit the ' +\n",
              "          '<a target=\"_blank\" href=https://colab.research.google.com/notebooks/data_table.ipynb>data table notebook</a>'\n",
              "          + ' to learn more about interactive tables.';\n",
              "        element.innerHTML = '';\n",
              "        dataTable['output_type'] = 'display_data';\n",
              "        await google.colab.output.renderOutput(dataTable, element);\n",
              "        const docLink = document.createElement('div');\n",
              "        docLink.innerHTML = docLinkHtml;\n",
              "        element.appendChild(docLink);\n",
              "      }\n",
              "    </script>\n",
              "  </div>\n",
              "  \n",
              "    </div>\n",
              "  </div>\n",
              "  "
            ],
            "application/vnd.google.colaboratory.intrinsic+json": {
              "type": "dataframe",
              "variable_name": "dtm_tfidf"
            }
          },
          "metadata": {},
          "execution_count": 71
        }
      ]
    },
    {
      "cell_type": "code",
      "source": [
        "top_n = 20\n",
        "# sum the term counts in each column of the dtm_tf data frame and then sort in descending order\n",
        "tfidf_sorted_terms = dtm_tfidf.sum().sort_values(ascending=False)\n",
        "\n",
        "plt.title(\"Top {} Words by Inverse Document Frequency in Tech Job Listings\".format(top_n), fontsize=14)\n",
        "tfidf_sorted_terms[:top_n].plot(kind=\"bar\", figsize=(20,8), grid=True, fontsize=14)"
      ],
      "metadata": {
        "id": "icYlT7wqfZzf",
        "outputId": "1f5440e1-7651-439e-9621-4aad154b4157",
        "colab": {
          "base_uri": "https://localhost:8080/",
          "height": 869
        }
      },
      "execution_count": 72,
      "outputs": [
        {
          "output_type": "execute_result",
          "data": {
            "text/plain": [
              "<Axes: title={'center': 'Top 20 Words by Inverse Document Frequency in Tech Job Listings'}>"
            ]
          },
          "metadata": {},
          "execution_count": 72
        },
        {
          "output_type": "display_data",
          "data": {
            "text/plain": [
              "<Figure size 2000x800 with 1 Axes>"
            ],
            "image/png": "[encoded data removed]"
          },
          "metadata": {}
        }
      ]
    },
    {
      "cell_type": "markdown",
      "metadata": {
        "id": "Sfy_WGLrQl_T"
      },
      "source": [
        "Stretch: see if you can make a visualization of this TF-IDF Document-Term  matrix, as you did in Part 3 for the CountVectorizer Document-Term matrix, i.e. using a barplot."
      ]
    },
    {
      "cell_type": "markdown",
      "metadata": {
        "id": "MPGAFniRN_LY"
      },
      "source": [
        "## 6) Create a `NearestNeighbor` Model for the Data Science job listings\n",
        "Write a some text that describes your ideal Data Science job, and query the model to identify jobs with similar descriptions!"
      ]
    },
    {
      "cell_type": "code",
      "metadata": {
        "inputHidden": false,
        "jupyter": {
          "outputs_hidden": false
        },
        "outputHidden": false,
        "id": "Jr152QRrN_LZ"
      },
      "source": [
        "ideal_ds_job_query=[\"The role should involve building and deploying machine learning models. Work on tasks like predictive modeling, clustering, or classification.\"]"
      ],
      "execution_count": 53,
      "outputs": []
    },
    {
      "cell_type": "code",
      "metadata": {
        "id": "Zdwl_7BFibnk",
        "outputId": "b83c0e29-d2f5-4e72-9bf3-c03a3e887681",
        "colab": {
          "base_uri": "https://localhost:8080/"
        }
      },
      "source": [
        "# vectorize your ideal job description using your fitted tfidf vectorizer\n",
        "ideal_job_vector = tfidf.transform(ideal_ds_job_query).toarray()\n",
        "\n",
        "# fit NearestNeighbors model to the Indeed reviews document-term matrix that you created\n",
        "nn = NearestNeighbors()\n",
        "nn.fit(dtm_tfidf.values)\n",
        "\n",
        "# get top_n_neigh distances and review indices for reviews that are closest to your ideal job\n",
        "n_dist, n_ind = nn.kneighbors(ideal_job_vector, n_neighbors=6)\n",
        "\n",
        "# look at a few of the most similar job descriptions to your ideal job\n",
        "# Did your query find good matches?\n",
        "print(n_ind)\n",
        "print(n_dist)"
      ],
      "execution_count": 73,
      "outputs": [
        {
          "output_type": "stream",
          "name": "stdout",
          "text": [
            "[[106 177 119 159  53  90]]\n",
            "[[1.21555807 1.26312695 1.26312695 1.2838049  1.31304453 1.31397438]]\n"
          ]
        }
      ]
    },
    {
      "cell_type": "code",
      "source": [
        "# examine the 3 most similar job descriptions to ideal job\n",
        "count=0\n",
        "for most_sim_job_index in n_ind[0]:\n",
        "  most_sim_job = df.clean_text.iloc[most_sim_job_index]\n",
        "  count+=1\n",
        "  print(\"\\n\", count, \" \", most_sim_job)"
      ],
      "metadata": {
        "id": "n3IXRbfURFIE",
        "outputId": "e4a710e4-5f44-4f80-e9ae-076256a92162",
        "colab": {
          "base_uri": "https://localhost:8080/"
        }
      },
      "execution_count": 74,
      "outputs": [
        {
          "output_type": "stream",
          "name": "stdout",
          "text": [
            "\n",
            " 1   we are looking for a senior level data scientist with    years of full time experience writing code for large scale distributed production systems  tasks include   writing clean  efficient  and scalable deep learning code for production staying current with research in deep learning and image classification architecting solutions that integrate into existing products and tools implementing tools to analyze and improve large data sets of images finding ways to improve existing models to get better performance\n",
            "\n",
            " 2   the data scientist role will be instrumental in helping wwe continue its evolution into a data driven  analytics driven organization  the data scientist will execute analytical tasks such as model development  scoring  and deliverable production to support wwe decision makers  projects tasks will range from deep dives on specific topics  creation of analytical models  to building reports and dashboards with kpis and trends  s he will support business stakeholders through hands on quantitative analytics of transactional and behavioral data  key responsibilities   develop predictive and descriptive models using advanced statistical  optimization  and big data techniques including  multivariate  regression  decision trees classification  and time series assist in identifying critical questions to be answered and contribute to developing analytics driven solutions and kpis to enable more effective decision making conduct analysis and data modeling to draw insights that drive critical decision making and to uncover subscriber patterns  user content consumption  and customer behavior patterns create models  kpis  and dashboards to operationalize outcomes of analytics monitor effectiveness of analytical models and ensure accuracy of all data from source to final deliverable through a systematic data quality control process work in complex data environment comprising several heterogeneous internal and third party data sources  manipulate large data sets and navigate a variety of servers  data types  and data structures to complete statistical and other analyses work on self serve delivery  automation  and maintenance of reports and visualizations work with it partners  e g   data warehousing team  to design optimal data architecture for analytics and bi tools  qualifications   at least   year of experience in marketing sales analytics  segmentation  and forecasting at least   year of experience with a statistical analysis tool like r  sas or spss at least   year of experience performing data management  mining  and manipulation proficiency in a wide range of analytical methods including multivariate  time series  classification  and machine learning working knowledge of sql and relational data model working knowledge of at least two technologies  python  big query  google analytics  spotfire  and or tableau ability to translate quantitative results into clear and concise business presentations reports using compelling data visualization techniques able to write code to query and transform both unstructured and structured data proven track record of identifying and highlighting key insights  signals  and trends deep within the underlying data bachelor s degree in statistics mathematics econometrics economics  engineering computer science  business finance  or related quantitative field advanced degree a plus\n",
            "\n",
            " 3   the data scientist role will be instrumental in helping wwe continue its evolution into a data driven  analytics driven organization  the data scientist will execute analytical tasks such as model development  scoring  and deliverable production to support wwe decision makers  projects tasks will range from deep dives on specific topics  creation of analytical models  to building reports and dashboards with kpis and trends  s he will support business stakeholders through hands on quantitative analytics of transactional and behavioral data  key responsibilities   develop predictive and descriptive models using advanced statistical  optimization  and big data techniques including  multivariate  regression  decision trees classification  and time series assist in identifying critical questions to be answered and contribute to developing analytics driven solutions and kpis to enable more effective decision making conduct analysis and data modeling to draw insights that drive critical decision making and to uncover subscriber patterns  user content consumption  and customer behavior patterns create models  kpis  and dashboards to operationalize outcomes of analytics monitor effectiveness of analytical models and ensure accuracy of all data from source to final deliverable through a systematic data quality control process work in complex data environment comprising several heterogeneous internal and third party data sources  manipulate large data sets and navigate a variety of servers  data types  and data structures to complete statistical and other analyses work on self serve delivery  automation  and maintenance of reports and visualizations work with it partners  e g   data warehousing team  to design optimal data architecture for analytics and bi tools  qualifications   at least   year of experience in marketing sales analytics  segmentation  and forecasting at least   year of experience with a statistical analysis tool like r  sas or spss at least   year of experience performing data management  mining  and manipulation proficiency in a wide range of analytical methods including multivariate  time series  classification  and machine learning working knowledge of sql and relational data model working knowledge of at least two technologies  python  big query  google analytics  spotfire  and or tableau ability to translate quantitative results into clear and concise business presentations reports using compelling data visualization techniques able to write code to query and transform both unstructured and structured data proven track record of identifying and highlighting key insights  signals  and trends deep within the underlying data bachelor s degree in statistics mathematics econometrics economics  engineering computer science  business finance  or related quantitative field advanced degree a plus\n",
            "\n",
            " 4   experiment engineers will be expected to help define and develop our core software for designing and deploying advanced experiments\n",
            "\n",
            " 5   temporary  internshipc  is a leading enterprise ai software provider for accelerating digital transformation  the comprehensive and proven c  ai suite uses a model driven abstraction layer to enable organizations to develop  deploy  and operate enterprise scale ai applications   x to    x faster than alternative approaches   we are looking for data science interns to join us during our summer      internship program  as a data science intern  you will participate in the definition of new analytics capabilities able to provide our customers with the information they need to make proper decisions to support our customers in operating the internet of things  iot   in addition  you will help find the appropriate machine learning   data mining algorithms to answer these questions  finally  you will be responsible for implementing this into the product and making it available to our customers   qualified candidates will have an in depth knowledge of most common machine learning techniques and their application  you will also understand the limitations of these algorithms and how to tweak them or derive from them to achieve similar results at large scale   your responsibilities   driving adoption of deep learning models into next generation of c  products  designing and deploying machine learning algorithms for industrial applications such as fraud detection and predictive maintenance  collaborating with data and subject matter experts from c  and its customer teams to seek  understand  validate  interpret  and correctly use new data elements   requirements   pursuing a ms or phd in computer science  electrical engineering  statistics  or equivalent fields  applied machine learning experience  regression and classification  supervised and unsupervised learning   strong mathematical background  linear algebra  calculus  probability and statistics   experience with scalable ml  mapreduce  streaming   ability to drive a project and work both independently and in a team  smart  motivated  can do attitude  and seeks to make a difference  excellent verbal and written communication   preferred   experience with javascript and prototyping languages such as python and r  experience with java and scala is a plus  a portfolio of projects  github  papers  etc   is a plus   c  provides interns a competitive compensation package  at the office  we offer a fully stocked kitchen with catered breakfast and lunch  table tennis and pool table  free membership at our on site gym  friday evening social hours with food  drink and music and a fun team of great people   c  is proud to be an equal opportunity and affirmative action employer  we do not discriminate on the basis of any legally protected characteristics  including disabled and veteran status\n",
            "\n",
            " 6   data scientist  multiple levels       c k   no visa sponsorship is available for this position   preferred qualifications  preferred qualifications  within the ai apps team at oracle we develop and deploy data science solutions at scale and throughout all of oracle s existing products and services  and are seeking to grow the team with brilliant and diverse individuals with well crafted technical ability  this is an exciting and challenging role that will stretch your knowledge and curiosity  offering the opportunity to learn new skills and work within an unusually talented  global community at oracle    you will encounter a wide variety of data types  from retail and financial transactions to free text  images and video  ai apps are required to solve business challenges ranging from recommendation systems and dynamic discounting  management of the flow of goods and services  transportation logistics and movement and storage of materials and inventory  accounting and procurement  project management  manufacturing  staff recruiting  handling and optimizing the hr of an organization   this is a hands on position where you will be empowered to be creative  ambitious and bold  to solve challenging problems and have the potential to directly impact oracle s future  the role requires that you have a solid background in machine learning and know how to invent and modify advanced innovative algorithms  applying them to large data sets  you will be a great teammate who is eager to both teach and learn every day  that is enthusiastic and self motivated to solve useful problems    more specifically  you will help us solve business and technical problems with robust and statistically sound use of rigorous scientific methodologies and creative use of algorithms using ai  machine  deep  reinforcement  learning and predictive modelling techniques  you should be comfortable in an environment that combines clear problem specifications with sometimes unpredictable situations  carrying unknowns both of technical and functional kind  given the global setup  you will also be confident and familiar with tools and styles to work remotely in effective ways together with a team located in multiple geographical locations  you will have the opportunity to actively participate as contributor or leader in a team of peer data scientists  understanding the collaborative and transparent relationships with engineering and product teams and the ways of working of an agile environment  when appropriate  we will support and encourage that you strive to publish the best work in the top journals and conferences    in all  we are looking for ambitious scientists with an uncommon academic background  an ideal blend of coding  machine learning and statistics  a colleague with whom we can share the enjoyment of being curious  the interest in difficult mathematical and algorithmic problems  and the commitment to be innovative in building predictive models as well as in the way society deals with sensitive data    we would like you to have an advanced degree in computer science  physics  engineering  mathematics or similar  and postgraduate experience in ai  machine learning  analytics and or predictive modelling  excellent understanding of the mathematical theory behind common machine learning algorithms for solving classification and regression problems in supervised and unsupervised learning  together with practical experience with the relevant open source libraries  consistency in developing  innovating  and applying advanced algorithms to address practical problems and in building new analytical products of commercial value  practical experience in feature engineering  evaluation  selection and automation of such tasks  model interpretation and visualization  robust knowledge and experience with statistical methods  in particular with the estimation of confidence intervals around parameter values and predicted quantities  domain expertise in industries such as online retail  digital marketing  financial services  insurance  health care  manufacturing  consumer goods  telecommunications  proficiency with several years  experience in more than one of python  r  java  c  c    scala  and robust linux shell scripting  as well as in using query languages such as sql and its adaptations  experience with horizontally scalable data stores such as hadoop and other nosql technologies such as map reduce  spark  hbase  etc   and associated schemas  it would be fantastic if you also have  a phd degree in a quantitative science or technical field  post doctoral academic research experience in ai and machine learning  experience in a devops role or even better in the nascent dataops role  deep knowledge of graphical models  bayesian networks  gaussian processes  mcmc  hidden markov models and social network analysis  expertise with nlp  text processing and modelling  automatic summarization  translation  named entity recognition  relationship extraction  sentiment analysis  in particular using deep learning techniques for such tasks  employing popular frameworks  including keras  tensorflow  mxnet  torch  theano  etc  expertise in reinforcement learning and its deep version  experience in leading and mentoring other data scientists  you will have several opportunities to complete end to end execution of the data science process  this will be carried out in a collaborative environment with product and engineering teams  but ranges from understanding business requirements  data discovery and extraction  model development and evaluation  to production pipeline implementation  to do so you will have access to state of the art computational resources  the opportunity to learn by experimenting with technology and the latest open source libraries  a wealth of data to be understood and modelled  and the most friendly and knowledgeable colleagues in a company that offers extraordinary career opportunities for the best    join and build the future with us   detailed description and job requirements  designs  develops and programs methods  processes  and systems to consolidate and analyze unstructured  diverse  big data  sources to generate actionable insights and solutions for client services and product enhancement   interacts with product and service teams to identify questions and issues for data analysis and experiments  develops and codes software programs  algorithms and automated processes to cleanse  integrate and evaluate large datasets from multiple disparate sources  identifies meaningful insights from large data and metadata sources  interprets and communicates insights and findings from analysis and experiments to product  service  and business managers   leading contributor individually and as a team member  providing direction and mentoring to others  work is non routine and very complex  involving the application of advanced technical business skills in area of specialization    years relevant work experience  bs ba preferred   oracle will consider for employment qualified applicants with criminal histories in a manner consistent with the requirements of san francisco s fair chance ordinance   oracle is an equal employment opportunity employer  all qualified applicants will receive consideration for employment without regard to race  color  religion  sex  national origin  sexual orientation  gender identity  disability and protected veterans status or any other characteristic protected by law\n"
          ]
        }
      ]
    },
    {
      "cell_type": "code",
      "source": [
        "dtm_tfidf.values"
      ],
      "metadata": {
        "id": "V92iHUJ_ta_W",
        "outputId": "561a54ae-e562-43b3-f404-420deb386078",
        "colab": {
          "base_uri": "https://localhost:8080/"
        }
      },
      "execution_count": 47,
      "outputs": [
        {
          "output_type": "execute_result",
          "data": {
            "text/plain": [
              "array([[0.        , 0.        , 0.        , ..., 0.        , 0.        ,\n",
              "        0.        ],\n",
              "       [0.        , 0.        , 0.        , ..., 0.        , 0.        ,\n",
              "        0.        ],\n",
              "       [0.        , 0.        , 0.        , ..., 0.        , 0.        ,\n",
              "        0.        ],\n",
              "       ...,\n",
              "       [0.        , 0.        , 0.        , ..., 0.        , 0.        ,\n",
              "        0.        ],\n",
              "       [0.12982167, 0.        , 0.19217166, ..., 0.        , 0.        ,\n",
              "        0.        ],\n",
              "       [0.        , 0.        , 0.        , ..., 0.        , 0.06602938,\n",
              "        0.        ]])"
            ]
          },
          "metadata": {},
          "execution_count": 47
        }
      ]
    },
    {
      "cell_type": "code",
      "source": [
        "df.clean_text.iloc[106]"
      ],
      "metadata": {
        "id": "zU-LI1PNihS0",
        "outputId": "a88ae813-e393-46ce-f0fd-a43b06f26e1d",
        "colab": {
          "base_uri": "https://localhost:8080/",
          "height": 53
        }
      },
      "execution_count": 41,
      "outputs": [
        {
          "output_type": "execute_result",
          "data": {
            "text/plain": [
              "'we are looking for a senior level data scientist with 6+ years of full-time experience writing code for large-scale distributed production systems. tasks include: writing clean, efficient, and scalable deep learning code for production staying current with research in deep learning and image classification architecting solutions that integrate into existing products and tools implementing tools to analyze and improve large data sets of images finding ways to improve existing models to get better performance'"
            ],
            "application/vnd.google.colaboratory.intrinsic+json": {
              "type": "string"
            }
          },
          "metadata": {},
          "execution_count": 41
        }
      ]
    },
    {
      "cell_type": "markdown",
      "metadata": {
        "id": "FiDfTWceoRkH"
      },
      "source": [
        "## Stretch Goals: do one of more of these that strike your fancy!\n",
        "\n",
        " - Repeat Part 6, but this time using spacy's word embeddings to represent documents as vectors. Remember, to form a document vector from spacy word embeddings, you average together the word embedding vectors of all the words in the document, so the document vector will have the same dimensionality as the word embeddings, namely 300 dimensions. Do you notice any difference in the results?\n",
        " - Watch Josh Starmer's video [StatQuest: Principal Component Analysis (PCA), Step-by-Step](https://www.youtube.com/watch?v=FgakZw6K1QQ). Or read [Daniela Witten's tweetstorm](https://twitter.com/womeninstat/status/1285610321747611653?lang=en) on Singular Value Decomposition (SVD). Now go back and review the section \"Can we visualize word vectors?\" from the [lecture video](https://drive.google.com/file/d/1QuwkO2Uj5sONFtqCk0_d2zrks2I6stkN/view?usp=sharing). Write a brief description of your understanding of Principal Components Analysis, and how it was used to visualize word vectors. Do your own experiments to explore relationships of words in two dimensions. Write a summary of what you discovered.\n",
        "\n",
        " - Try different visualizations for words and frequencies - what story do you want to tell with the data?\n",
        " - Scrape Job Listings for the job title \"Data Analyst\". How do these differ from Data Scientist Job Listings?\n",
        " - Try and identify requirements for experience specific technologies that are asked for in the job listings. Hint: compose a query that references a number of tech stack items. How are those items distributed among the job listings?\n",
        " - Use a clustering algorithm to cluster documents by their most important terms. Do the clusters reveal any common themes?\n",
        "  - **Hint:** K-means might not be the best algorithm for this; algorithms that depend on Euclidean distance break down with high dimensional data. Do a bit of research to see if you can identify a suitable clustering algorithm.\n",
        " - Create a labeled dataset - which jobs will you apply for? Train a model to select the jobs you are most likely to apply for."
      ]
    },
    {
      "cell_type": "code",
      "source": [
        "# Use spacy's word embeddings to represent documents as vectors\n",
        "# form a document vector from spacy word embeddings\n",
        "# average together the word embedding vectors of all the words in the document\n",
        "# the document vector will have the same dimensionality as the word embeddings, namely 300 dimensions\n",
        "# spacy provides pretrained Word2Vec models\n",
        "\n",
        "# Create document vectors by averaging word embeddings\n",
        "def get_doc_vector(text):\n",
        "    if not isinstance(text, str) or not text.strip():  # Handle non-string or empty text\n",
        "        return np.zeros(300)  # Return zero vector for empty/invalid input\n",
        "    doc = nlp(text)\n",
        "    return doc.vector  # 300-dimensional vector\n",
        "\n",
        "# apply to clean_text and create 2D array\n",
        "doc_vecs = np.array([get_doc_vector(text) for text in df['clean_text']])\n",
        "\n",
        "ideal_job_vector_spacy = nlp(ideal_ds_job_query[0]).vector.reshape(1, -1)\n",
        "\n",
        "nn = NearestNeighbors()\n",
        "nn.fit(doc_vecs)\n",
        "\n",
        "# get top_n_neigh distances and review indices for reviews that are closest to your ideal job\n",
        "n_dist, n_ind = nn.kneighbors(ideal_job_vector_spacy, n_neighbors=6)\n",
        "\n",
        "print(n_ind)\n",
        "print(n_dist)"
      ],
      "metadata": {
        "id": "q3qZyrn_jiji",
        "outputId": "d4f95c85-6c8a-41f9-a50a-971ae730d97d",
        "colab": {
          "base_uri": "https://localhost:8080/"
        }
      },
      "execution_count": 55,
      "outputs": [
        {
          "output_type": "stream",
          "name": "stdout",
          "text": [
            "[[163 318 274 307 151  38]]\n",
            "[[0.97859842 0.97919571 0.9959237  1.00604403 1.01352096 1.01813829]]\n"
          ]
        }
      ]
    },
    {
      "cell_type": "code",
      "source": [
        "# tfidf\n",
        "'''\n",
        "[[106 119 177 226 159  85]]\n",
        "[[1.23883203 1.27818791 1.27818791 1.27959926 1.29919341 1.31439931]]\n",
        "'''\n",
        "\n",
        "# spacy\n",
        "'''\n",
        "[[163 318 274 307 151  38]]\n",
        "[[0.97859842 0.97919571 0.9959237  1.00604403 1.01352096 1.01813829]]\n",
        "'''\n",
        "\n",
        "# they output the same results"
      ],
      "metadata": {
        "id": "0WfNz9_-wNLR",
        "outputId": "00e6b7c1-d689-45be-f957-cfde4d58e900",
        "colab": {
          "base_uri": "https://localhost:8080/",
          "height": 35
        }
      },
      "execution_count": 56,
      "outputs": [
        {
          "output_type": "execute_result",
          "data": {
            "text/plain": [
              "'\\n[[163 318 274 307 151  38]]\\n[[0.97859842 0.97919571 0.9959237  1.00604403 1.01352096 1.01813829]]\\n'"
            ],
            "application/vnd.google.colaboratory.intrinsic+json": {
              "type": "string"
            }
          },
          "metadata": {},
          "execution_count": 56
        }
      ]
    }
  ]
}